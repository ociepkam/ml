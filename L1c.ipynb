{
 "cells": [
  {
   "cell_type": "markdown",
   "metadata": {},
   "source": [
    "# Liniowy model"
   ]
  },
  {
   "cell_type": "markdown",
   "metadata": {},
   "source": [
    "## Tworzymy nasz model liniowy odróżniający gatunek irysów Setosa od innych!"
   ]
  },
  {
   "cell_type": "code",
   "execution_count": 1,
   "metadata": {
    "collapsed": true
   },
   "outputs": [],
   "source": [
    "# Standardowe importowanie pakietów\n",
    "import numpy as np\n",
    "import matplotlib.pylab as plt\n",
    "%matplotlib inline\n",
    "from sklearn.datasets import load_iris"
   ]
  },
  {
   "cell_type": "code",
   "execution_count": 2,
   "metadata": {
    "collapsed": true
   },
   "outputs": [],
   "source": [
    "# Załadujmy jeszcze raz dane iris\n",
    "iris = load_iris()\n",
    "X,Y = iris.data[:,0:2], iris.target\n",
    "Y = Y==0 # Troche magii żeby przewidywał tylko Iris Setosa albo \"nie Iris Setosa\""
   ]
  },
  {
   "cell_type": "code",
   "execution_count": 3,
   "metadata": {
    "collapsed": false
   },
   "outputs": [
    {
     "data": {
      "text/plain": [
       "array(['setosa', 'versicolor', 'virginica'], \n",
       "      dtype='<U10')"
      ]
     },
     "execution_count": 3,
     "metadata": {},
     "output_type": "execute_result"
    }
   ],
   "source": [
    "iris.target_names # Setosa jest pierwsza (indeks 0)"
   ]
  },
  {
   "cell_type": "code",
   "execution_count": 4,
   "metadata": {
    "collapsed": false
   },
   "outputs": [
    {
     "data": {
      "text/plain": [
       "LinearSVC(C=1.0, class_weight=None, dual=True, fit_intercept=True,\n",
       "     intercept_scaling=1, loss='squared_hinge', max_iter=1000,\n",
       "     multi_class='ovr', penalty='l2', random_state=None, tol=0.0001,\n",
       "     verbose=0)"
      ]
     },
     "execution_count": 4,
     "metadata": {},
     "output_type": "execute_result"
    }
   ],
   "source": [
    "# Ok! Dopasowywujemy model. \n",
    "from sklearn.svm import LinearSVC\n",
    "# Regresja liniowa. Jeden z wielu modeli, których końcowym wynikiem jest linia prosta :)\n",
    "pierwszy_model = LinearSVC() \n",
    "pierwszy_model.fit(X, Y) # Wspominany interfejs! Po zrobieniu fit mamy linię prostą"
   ]
  },
  {
   "cell_type": "code",
   "execution_count": 5,
   "metadata": {
    "collapsed": false
   },
   "outputs": [
    {
     "data": {
      "text/plain": [
       "array([[-1.54140168,  2.28320439]])"
      ]
     },
     "execution_count": 5,
     "metadata": {},
     "output_type": "execute_result"
    }
   ],
   "source": [
    "pierwszy_model.coef_"
   ]
  },
  {
   "cell_type": "markdown",
   "metadata": {},
   "source": [
    "### b) Model machine learningowy (*pierwszy_model* w naszym kodzie) można streścić jako:\n",
    "\n",
    "\"Jeśli -1.541405 \\* **długość_płatka** + 2.28320578 \\* **szerokość_płatka** >= 0 to jest to kwiatek gatunku *Iris Setosa*\"\n",
    "\n",
    "Nie uwierzycie ile modeli jest tak prostych :)"
   ]
  },
  {
   "cell_type": "code",
   "execution_count": 6,
   "metadata": {
    "collapsed": false
   },
   "outputs": [
    {
     "name": "stderr",
     "output_type": "stream",
     "text": [
      "/home/poia/anaconda3/lib/python3.5/site-packages/sklearn/utils/validation.py:386: DeprecationWarning: Passing 1d arrays as data is deprecated in 0.17 and willraise ValueError in 0.19. Reshape your data either using X.reshape(-1, 1) if your data has a single feature or X.reshape(1, -1) if it contains a single sample.\n",
      "  DeprecationWarning)\n"
     ]
    },
    {
     "data": {
      "text/plain": [
       "array([ True], dtype=bool)"
      ]
     },
     "execution_count": 6,
     "metadata": {},
     "output_type": "execute_result"
    }
   ],
   "source": [
    "# Można zapytać (predict w Estimator)\n",
    "pierwszy_model.predict([-0.109, 0.451]) # Kwiatek gatunku Iris Setosa! "
   ]
  },
  {
   "cell_type": "markdown",
   "metadata": {},
   "source": [
    "### Ćwiczenie 6 (2 pkt)\n",
    "\n",
    "Zaprogramuj funkcje predict() ktora bedzie zwracac to co pierwszy_model.predict. Funkcja powinna przejsc testy i implementowac nastepujacy interfejs"
   ]
  },
  {
   "cell_type": "code",
   "execution_count": 7,
   "metadata": {
    "collapsed": false
   },
   "outputs": [],
   "source": [
    "def predict(z):\n",
    "    if sum(pierwszy_model.coef_[0] * z) + pierwszy_model.intercept_ >= 0:\n",
    "        return True\n",
    "    return False"
   ]
  },
  {
   "cell_type": "code",
   "execution_count": 8,
   "metadata": {
    "collapsed": false
   },
   "outputs": [],
   "source": [
    "for x in np.linspace(-1, 1, 10):\n",
    "    for y in np.linspace(-1, 1, 10):\n",
    "        assert pierwszy_model.predict([[x, y]]) == predict([x,y]), \"Failed on {},{}\".format(x, y)"
   ]
  },
  {
   "cell_type": "markdown",
   "metadata": {},
   "source": [
    "### Wizualizacja nauczonego modelu"
   ]
  },
  {
   "cell_type": "code",
   "execution_count": 9,
   "metadata": {
    "collapsed": false
   },
   "outputs": [
    {
     "data": {
      "text/plain": [
       "<matplotlib.text.Text at 0x7efd7de2d9e8>"
      ]
     },
     "execution_count": 9,
     "metadata": {},
     "output_type": "execute_result"
    },
    {
     "data": {
      "image/png": "[encoded data removed]",
      "text/plain": [
       "<matplotlib.figure.Figure at 0x7efd80401550>"
      ]
     },
     "metadata": {},
     "output_type": "display_data"
    }
   ],
   "source": [
    "# Tworzymy siatkę punktów w odstępie 1e-2\n",
    "h = 1e-2\n",
    "x_min, x_max = X[:, 0].min() - 1, X[:, 0].max() + 1\n",
    "y_min, y_max = X[:, 1].min() - 1, X[:, 1].max() + 1\n",
    "xx, yy = np.meshgrid(np.arange(x_min, x_max, h),\n",
    "                     np.arange(y_min, y_max, h))\n",
    "\n",
    "# Przewidujemy\n",
    "Z = pierwszy_model.predict(np.c_[xx.ravel(), yy.ravel()])\n",
    "Z = Z.reshape(xx.shape)\n",
    "\n",
    "# Rysujemy ładny wykres \n",
    "plt.contourf(xx, yy, Z, cmap=plt.cm.Paired, alpha=0.8)\n",
    "plt.scatter(X[:, 0], X[:, 1], c=Y, cmap=plt.cm.Paired)\n",
    "plt.xlabel('Sepal length')\n",
    "plt.ylabel('Sepal width')\n",
    "plt.xlim(xx.min(), xx.max())\n",
    "plt.ylim(yy.min(), yy.max())\n",
    "plt.xticks(())\n",
    "plt.yticks(())\n",
    "plt.title(\"pierwszy_model\")"
   ]
  },
  {
   "cell_type": "markdown",
   "metadata": {},
   "source": [
    "## Podstawy machine learningu"
   ]
  },
  {
   "cell_type": "markdown",
   "metadata": {},
   "source": [
    "Podsumujmy co wiemy:\n",
    "    \n",
    "* Machine Learning zajmuje się tworzeniem modeli, które uczymy na podstawie danych\n",
    "* Scikit-learn udostępnia wiele modeli, uczymy je za pomocą funkcji **fit**, przewidujemy za pomocą funkcji **predict**\n",
    "* Ważną klasą modeli są modele liniowe na których się skupimy\n",
    "* Znamy podstawy numpy i matplotlib\n",
    "\n",
    "Wprowadzimy jeszcze 2 pojęcia:\n",
    "* Testowanie modelu\n",
    "* Hiperparametry\n",
    "\n"
   ]
  },
  {
   "cell_type": "markdown",
   "metadata": {},
   "source": [
    "### a) Testowanie modelu\n",
    "\n",
    "Chcemy wiedzieć jak dobry jest model który mamy. W tym celu sobie symulujemy, i dzielimy zbiór danych na ** zbiór trenujący ** i ** zbiór testujący **. Uczymy się na zbiorze trenującym, testujemy na testującym. Zwykle podsumowywujemy wynik modelu jedną liczbą, np. **dokładność** (ang. *accuracy*) czyli ilość procent poprawnie sklasyfikowanych przykładów\n",
    "\n",
    "Przetestujmy jak sobie radzi nasz LogisticRegression na zbiorze Iris. Teraz weźmiemy wszystkie przykłady do nauki"
   ]
  },
  {
   "cell_type": "code",
   "execution_count": 10,
   "metadata": {
    "collapsed": true
   },
   "outputs": [],
   "source": [
    "# Załadujmy jeszcze raz dane iris\n",
    "iris = load_iris()\n",
    "X,Y = iris.data, iris.target"
   ]
  },
  {
   "cell_type": "code",
   "execution_count": 11,
   "metadata": {
    "collapsed": true
   },
   "outputs": [],
   "source": [
    "# Dzielimy (scikit-learn)\n",
    "from sklearn.cross_validation import train_test_split\n",
    "X_train, X_test, Y_train, Y_test = train_test_split(X,Y, random_state=1)"
   ]
  },
  {
   "cell_type": "code",
   "execution_count": 12,
   "metadata": {
    "collapsed": false
   },
   "outputs": [
    {
     "name": "stdout",
     "output_type": "stream",
     "text": [
      "Pierwszy przykład trenujący:  [ 6.5  2.8  4.6  1.5] Klasa:  1\n"
     ]
    }
   ],
   "source": [
    "print (\"Pierwszy przykład trenujący: \", X_train[0], \"Klasa: \", Y_train[0])"
   ]
  },
  {
   "cell_type": "code",
   "execution_count": 13,
   "metadata": {
    "collapsed": true
   },
   "outputs": [],
   "source": [
    "drugi_model = LinearSVC(C=1) \n",
    "drugi_model.fit(X_train, Y_train) # Wspominany interfejs! Po zrobieniu fit mamy linię prostą\n",
    "Y_test_predicted = drugi_model.predict(X_test)"
   ]
  },
  {
   "cell_type": "code",
   "execution_count": 14,
   "metadata": {
    "collapsed": false
   },
   "outputs": [
    {
     "name": "stdout",
     "output_type": "stream",
     "text": [
      "Przewidywania na pierwszych 10 przykladach:  [0 1 1 0 2 2 2 0 0 2]\n"
     ]
    }
   ],
   "source": [
    "print (\"Przewidywania na pierwszych 10 przykladach: \", Y_test_predicted[0:10])"
   ]
  },
  {
   "cell_type": "code",
   "execution_count": 15,
   "metadata": {
    "collapsed": false
   },
   "outputs": [
    {
     "name": "stdout",
     "output_type": "stream",
     "text": [
      "Dokładność modelu to:  89.4736842105 %\n"
     ]
    }
   ],
   "source": [
    "import sklearn\n",
    "print (\"Dokładność modelu to: \",100*sklearn.metrics.accuracy_score(Y_test, Y_test_predicted), \"%\")"
   ]
  },
  {
   "cell_type": "markdown",
   "metadata": {},
   "source": [
    "### c) Hiperparametry\n",
    "\n",
    "Każdy model opisywany jest hiperparametrami. Przykładowo w regresji liniowej możemy podać \"fit_intercept\" co oznacza czy linia ma przechodzi przez środek współrzędnych czy nie. Innym parametrem jest C - intuicyjnie opisuje prostote modelu"
   ]
  },
  {
   "cell_type": "markdown",
   "metadata": {},
   "source": [
    "# Cwiczenie 7 (2 pkt) \n",
    "\n",
    "1. Znalezc C ktore na X_test, Y_test ma 100%. \n",
    "2. Narysowac wykres, na osi X wartosc C, na osi Y dokladnosc dla danego C"
   ]
  },
  {
   "cell_type": "code",
   "execution_count": 16,
   "metadata": {
    "collapsed": false
   },
   "outputs": [
    {
     "name": "stdout",
     "output_type": "stream",
     "text": [
      "Dokładność modelu to:  84.2105263158 %\n"
     ]
    }
   ],
   "source": [
    "# Sprawdzanie C=0.1\n",
    "drugi_model = LinearSVC(C=0.1) \n",
    "drugi_model.fit(X_train, Y_train) # Wspominany interfejs! Po zrobieniu fit mamy linię prostą\n",
    "Y_test_predicted = drugi_model.predict(X_test)\n",
    "print (\"Dokładność modelu to: \",100*sklearn.metrics.accuracy_score(Y_test, Y_test_predicted), \"%\")"
   ]
  },
  {
   "cell_type": "code",
   "execution_count": 17,
   "metadata": {
    "collapsed": false
   },
   "outputs": [
    {
     "name": "stdout",
     "output_type": "stream",
     "text": [
      "For C = 5.5 accuracy_score = 100\n",
      "For C = 5.7 accuracy_score = 100\n",
      "For C = 6.0 accuracy_score = 100\n",
      "For C = 6.5 accuracy_score = 100\n",
      "For C = 7.2 accuracy_score = 100\n",
      "For C = 8.1 accuracy_score = 100\n",
      "For C = 8.2 accuracy_score = 100\n",
      "For C = 8.4 accuracy_score = 100\n",
      "For C = 8.8 accuracy_score = 100\n",
      "For C = 9.3 accuracy_score = 100\n",
      "For C = 9.5 accuracy_score = 100\n",
      "For C = 9.6 accuracy_score = 100\n",
      "For C = 9.8 accuracy_score = 100\n",
      "For C = 10.0 accuracy_score = 100\n"
     ]
    },
    {
     "data": {
      "text/plain": [
       "[<matplotlib.lines.Line2D at 0x7efd7dd6b9b0>]"
      ]
     },
     "execution_count": 17,
     "metadata": {},
     "output_type": "execute_result"
    },
    {
     "data": {
      "image/png": "[encoded data removed]",
      "text/plain": [
       "<matplotlib.figure.Figure at 0x7efd801cd630>"
      ]
     },
     "metadata": {},
     "output_type": "display_data"
    }
   ],
   "source": [
    "model_accuracy_scores = []\n",
    "all_c = np.linspace(0.1, 10, 100)\n",
    "for c in all_c:\n",
    "    drugi_model = LinearSVC(C=c) \n",
    "    drugi_model.fit(X_train, Y_train) # Wspominany interfejs! Po zrobieniu fit mamy linię prostą\n",
    "    Y_test_predicted = drugi_model.predict(X_test)\n",
    "    model_accuracy_scores.append(100*sklearn.metrics.accuracy_score(Y_test, Y_test_predicted))\n",
    "    if model_accuracy_scores[-1] == 100:\n",
    "        print(\"For C = {} accuracy_score = 100\".format(c))\n",
    "plt.plot(np.linspace(0.1, 10, 100), model_accuracy_scores, 'o-')"
   ]
  },
  {
   "cell_type": "code",
   "execution_count": null,
   "metadata": {
    "collapsed": true
   },
   "outputs": [],
   "source": []
  }
 ],
 "metadata": {
  "anaconda-cloud": {},
  "kernelspec": {
   "display_name": "Python 2",
   "language": "python",
   "name": "python2"
  },
  "language_info": {
   "codemirror_mode": {
    "name": "ipython",
    "version": 2
   },
   "file_extension": ".py",
   "mimetype": "text/x-python",
   "name": "python",
   "nbconvert_exporter": "python",
   "pygments_lexer": "ipython2",
   "version": "2.7.13"
  },
  "toc": {
   "toc_cell": false,
   "toc_number_sections": true,
   "toc_threshold": 6,
   "toc_window_display": false
  }
 },
 "nbformat": 4,
 "nbformat_minor": 0
}
